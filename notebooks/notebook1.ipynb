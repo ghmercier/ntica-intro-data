{
  "cells": [
    {
      "cell_type": "markdown",
      "metadata": {},
      "source": [
        "# Quarto Basics\n",
        "\n",
        "## A beautiful figure\n",
        "\n",
        "This chunk shows how you can produce a beautiful figure."
      ],
      "id": "216bc890-b3b5-465b-b72e-708b9ca7ed32"
    },
    {
      "cell_type": "code",
      "execution_count": 1,
      "metadata": {},
      "outputs": [
        {
          "output_type": "display_data",
          "metadata": {},
          "data": {}
        }
      ],
      "source": [
        "import numpy as np\n",
        "import matplotlib.pyplot as plt\n",
        "\n",
        "r = np.arange(0, 2, 0.01)\n",
        "theta = 2 * np.pi * r\n",
        "fig, ax = plt.subplots(\n",
        "  subplot_kw = {'projection': 'polar'} \n",
        ")\n",
        "ax.plot(theta, r)\n",
        "ax.set_rticks([0.5, 1, 1.5, 2])\n",
        "ax.grid(True)\n",
        "plt.show()"
      ],
      "id": "cell-fig-polar"
    },
    {
      "cell_type": "markdown",
      "metadata": {},
      "source": [
        "## A beautiful dataframe\n",
        "\n",
        "This section demonstrates how to create and display a simple pandas\n",
        "DataFrame."
      ],
      "id": "7ccb9a85-cc37-4a81-be80-96762b3296e3"
    },
    {
      "cell_type": "code",
      "execution_count": 2,
      "metadata": {},
      "outputs": [],
      "source": [
        "import pandas as pd\n",
        "\n",
        "data = {\n",
        "    \"Name\": [\"Alice\", \"Bob\", \"Charlie\"],\n",
        "    \"Age\": [25, 30, 35],\n",
        "    \"City\": [\"Paris\", \"Dublin\", \"Berlin\"]\n",
        "}\n",
        "\n",
        "df = pd.DataFrame(data)\n",
        "df"
      ],
      "id": "43da9fff-d1a3-4272-b096-3a2b766dc1b1"
    },
    {
      "cell_type": "markdown",
      "metadata": {},
      "source": [
        "## A more sophisticated table\n",
        "\n",
        "This section demonstrates how to create and display a simple pandas\n",
        "DataFrame."
      ],
      "id": "1efe1b12-ef17-494b-a7ff-62d8c10c83b2"
    },
    {
      "cell_type": "code",
      "execution_count": 3,
      "metadata": {},
      "outputs": [
        {
          "output_type": "display_data",
          "metadata": {},
          "data": {
            "text/html": [
              "\n",
              "\n",
              "</div>"
            ]
          }
        }
      ],
      "source": [
        "from great_tables import GT, html\n",
        "from great_tables.data import sza\n",
        "import polars as pl\n",
        "from polars import col as c\n",
        "import polars.selectors as cs\n",
        "\n",
        "sza_pivot = (\n",
        "    pl.from_pandas(sza)\n",
        "    .filter((c.latitude == \"20\") & (c.tst <= \"1200\"))\n",
        "    .select(pl.col(\"*\").exclude(\"latitude\"))\n",
        "    .drop_nulls()\n",
        "    .pivot(values=\"sza\", index=\"month\", on=\"tst\", sort_columns=True)\n",
        ")\n",
        "\n",
        "(\n",
        "    GT(sza_pivot, rowname_col=\"month\")\n",
        "    .data_color(\n",
        "        domain=[90, 0],\n",
        "        palette=[\"rebeccapurple\", \"white\", \"orange\"],\n",
        "        na_color=\"white\",\n",
        "    )\n",
        "    .tab_header(\n",
        "        title=\"Solar Zenith Angles from 05:30 to 12:00\",\n",
        "        subtitle=html(\"Average monthly values at latitude of 20&deg;N.\"),\n",
        "    )\n",
        "    .sub_missing(missing_text=\"\")\n",
        ")"
      ],
      "id": "9de7717c"
    }
  ],
  "nbformat": 4,
  "nbformat_minor": 5,
  "metadata": {
    "kernelspec": {
      "name": "python3",
      "display_name": "Python 3 (ipykernel)",
      "language": "python",
      "path": "/home/runner/work/ntica-intro-data/ntica-intro-data/.venv/share/jupyter/kernels/python3"
    },
    "language_info": {
      "name": "python",
      "codemirror_mode": {
        "name": "ipython",
        "version": "3"
      },
      "file_extension": ".py",
      "mimetype": "text/x-python",
      "nbconvert_exporter": "python",
      "pygments_lexer": "ipython3",
      "version": "3.12.3"
    }
  }
}